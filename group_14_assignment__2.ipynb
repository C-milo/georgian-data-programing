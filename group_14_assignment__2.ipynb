{
 "cells": [
  {
   "cell_type": "code",
   "execution_count": 1,
   "metadata": {},
   "outputs": [
    {
     "name": "stdout",
     "output_type": "stream",
     "text": [
      "What is your name?\n",
      "Reyhan\n",
      "Hello Reyhan\n"
     ]
    }
   ],
   "source": [
    "#Chapter 2 Exercise 2\n",
    "name=input('What is your name?\\n')\n",
    "print('Hello '+name)"
   ]
  },
  {
   "cell_type": "code",
   "execution_count": 3,
   "metadata": {},
   "outputs": [
    {
     "name": "stdout",
     "output_type": "stream",
     "text": [
      "Enter Hours\n",
      "20\n",
      "Enter Rate\n",
      "4.5\n",
      "90.0\n"
     ]
    }
   ],
   "source": [
    "#Chapter 2 Exercise 3\n",
    "hours=int(input('Enter Hours\\n'))\n",
    "rate=float(input('Enter Rate\\n'))\n",
    "pay=hours*rate\n",
    "print(pay)"
   ]
  },
  {
   "cell_type": "code",
   "execution_count": 4,
   "metadata": {},
   "outputs": [
    {
     "name": "stdout",
     "output_type": "stream",
     "text": [
      "8\n"
     ]
    },
    {
     "data": {
      "text/plain": [
       "int"
      ]
     },
     "execution_count": 4,
     "metadata": {},
     "output_type": "execute_result"
    }
   ],
   "source": [
    "#Chapter 2 Exercise 4\n",
    "width=17\n",
    "height=12.0\n",
    "print(width//2)\n",
    "type(width//2)"
   ]
  },
  {
   "cell_type": "code",
   "execution_count": 5,
   "metadata": {},
   "outputs": [
    {
     "name": "stdout",
     "output_type": "stream",
     "text": [
      "8.5\n"
     ]
    },
    {
     "data": {
      "text/plain": [
       "float"
      ]
     },
     "execution_count": 5,
     "metadata": {},
     "output_type": "execute_result"
    }
   ],
   "source": [
    "#Chapter 2 Exercise 4\n",
    "width=17\n",
    "height=12.0\n",
    "print(width/2.0)\n",
    "type(width/2.0)\n"
   ]
  },
  {
   "cell_type": "code",
   "execution_count": 6,
   "metadata": {},
   "outputs": [
    {
     "name": "stdout",
     "output_type": "stream",
     "text": [
      "4.0\n"
     ]
    },
    {
     "data": {
      "text/plain": [
       "float"
      ]
     },
     "execution_count": 6,
     "metadata": {},
     "output_type": "execute_result"
    }
   ],
   "source": [
    "#Chapter 2 Exercise 4\n",
    "width=17\n",
    "height=12.0\n",
    "print(height/3)\n",
    "type(height/3)\n"
   ]
  },
  {
   "cell_type": "code",
   "execution_count": 7,
   "metadata": {},
   "outputs": [
    {
     "name": "stdout",
     "output_type": "stream",
     "text": [
      "11\n"
     ]
    },
    {
     "data": {
      "text/plain": [
       "int"
      ]
     },
     "execution_count": 7,
     "metadata": {},
     "output_type": "execute_result"
    }
   ],
   "source": [
    "#Chapter 2 Exercise 4\n",
    "width=17\n",
    "height=12.0\n",
    "print(1+2*5)\n",
    "type(1+2*5)\n"
   ]
  },
  {
   "cell_type": "code",
   "execution_count": 8,
   "metadata": {},
   "outputs": [
    {
     "name": "stdout",
     "output_type": "stream",
     "text": [
      "-Celcius to Fahrenheit Coverter -\n",
      " Please enter a number\n",
      "20\n",
      "68.0\n"
     ]
    }
   ],
   "source": [
    "#Chapter 2 Exercise 5\n",
    "cal=float(input('-Celcius to Fahrenheit Coverter -\\n Please enter a number\\n'))\n",
    "fahr=cal*9/5+32\n",
    "print(fahr)"
   ]
  },
  {
   "cell_type": "code",
   "execution_count": 9,
   "metadata": {},
   "outputs": [
    {
     "name": "stdout",
     "output_type": "stream",
     "text": [
      "Enter Hours\n",
      "41\n",
      "Enter Rate\n",
      "10\n",
      "415.0\n"
     ]
    }
   ],
   "source": [
    "#Chapter 3 Exercise 1\n",
    "hours=int(input('Enter Hours\\n'))\n",
    "rate=float(input('Enter Rate\\n'))\n",
    "if hours > 40:\n",
    "    ot = hours - 40\n",
    "    pay=(40*rate)+(1.5*rate*ot)\n",
    "else:\n",
    "    pay=hours*rate\n",
    "print(pay)"
   ]
  },
  {
   "cell_type": "code",
   "execution_count": 2,
   "metadata": {},
   "outputs": [
    {
     "name": "stdout",
     "output_type": "stream",
     "text": [
      "Enter Hours\n",
      "20\n",
      "Enter Rate\n",
      "4.5\n",
      "90.0\n"
     ]
    }
   ],
   "source": [
    "#Chapter 3 Exercise 1\n",
    "hours=int(input('Enter Hours\\n'))\n",
    "rate=float(input('Enter Rate\\n'))\n",
    "if hours > 40:\n",
    "    ot = hours - 40\n",
    "    pay=(40*rate)+(1.5*rate*ot)\n",
    "else:\n",
    "    pay=hours*rate\n",
    "print(pay)"
   ]
  },
  {
   "cell_type": "code",
   "execution_count": 3,
   "metadata": {},
   "outputs": [
    {
     "name": "stdout",
     "output_type": "stream",
     "text": [
      "Enter Hours\n",
      "big\n",
      "Please enter a number\n"
     ]
    }
   ],
   "source": [
    "#Chapter 3 Exercise 2\n",
    "try:\n",
    "    hours=int(input('Enter Hours\\n'))\n",
    "    rate=float(input('Enter Rate\\n'))\n",
    "    if hours > 40:\n",
    "        ot = hours - 40\n",
    "        pay=(40*rate)+(1.5*rate*ot)\n",
    "    else:\n",
    "        pay=hours*rate\n",
    "    print(pay)\n",
    "except:\n",
    "    print('Please enter a number')"
   ]
  },
  {
   "cell_type": "code",
   "execution_count": 4,
   "metadata": {},
   "outputs": [
    {
     "name": "stdout",
     "output_type": "stream",
     "text": [
      "Enter Hours\n",
      "20\n",
      "Enter Rate\n",
      "4.5\n",
      "90.0\n"
     ]
    }
   ],
   "source": [
    "#Chapter 3 Exercise 2\n",
    "try:\n",
    "    hours=int(input('Enter Hours\\n'))\n",
    "    rate=float(input('Enter Rate\\n'))\n",
    "    if hours > 40:\n",
    "        ot = hours - 40\n",
    "        pay=(40*rate)+(1.5*rate*ot)\n",
    "    else:\n",
    "        pay=hours*rate\n",
    "    print(pay)\n",
    "except:\n",
    "    print('Please enter a number')"
   ]
  },
  {
   "cell_type": "code",
   "execution_count": 5,
   "metadata": {},
   "outputs": [
    {
     "name": "stdout",
     "output_type": "stream",
     "text": [
      "Enter Hours\n",
      "20\n",
      "Enter Rate\n",
      "big\n",
      "Please enter a number\n"
     ]
    }
   ],
   "source": [
    "#Chapter 3 Exercise 2\n",
    "try:\n",
    "    hours=int(input('Enter Hours\\n'))\n",
    "    rate=float(input('Enter Rate\\n'))\n",
    "    if hours > 40:\n",
    "        ot = hours - 40\n",
    "        pay=(40*rate)+(1.5*rate*ot)\n",
    "    else:\n",
    "        pay=hours*rate\n",
    "    print(pay)\n",
    "except:\n",
    "    print('Please enter a number')"
   ]
  },
  {
   "cell_type": "code",
   "execution_count": 13,
   "metadata": {},
   "outputs": [
    {
     "name": "stdout",
     "output_type": "stream",
     "text": [
      "Enter score\n",
      "0.95\n",
      "A\n"
     ]
    }
   ],
   "source": [
    "#Chapter 3 Exercise 3\n",
    "try: \n",
    "    sco=float(input('Enter score\\n'))\n",
    "    if sco>1 or sco<0:\n",
    "        print('Bad score')\n",
    "    elif 0.9<= sco <=1:\n",
    "        print('A')\n",
    "    elif 0.8<=sco <0.9:\n",
    "        print ('B')\n",
    "    elif 0.7<=sco<0.8:\n",
    "        print ('C')\n",
    "    elif 0.6<=sco<0.7:\n",
    "        print ('D')\n",
    "    elif sco<0.6:\n",
    "        print ('F')\n",
    "except:\n",
    "    print('Bad score')\n"
   ]
  },
  {
   "cell_type": "code",
   "execution_count": 14,
   "metadata": {},
   "outputs": [
    {
     "name": "stdout",
     "output_type": "stream",
     "text": [
      "Enter score\n",
      "10\n",
      "Bad score\n"
     ]
    }
   ],
   "source": [
    "#Chapter 3 Exercise 3\n",
    "try: \n",
    "    sco=float(input('Enter score\\n'))\n",
    "    if sco>1 or sco<0:\n",
    "        print('Bad score')\n",
    "    elif 0.9<= sco <=1:\n",
    "        print('A')\n",
    "    elif 0.8<=sco <0.9:\n",
    "        print ('B')\n",
    "    elif 0.7<=sco<0.8:\n",
    "        print ('C')\n",
    "    elif 0.6<=sco<0.7:\n",
    "        print ('D')\n",
    "    elif sco<0.6:\n",
    "        print ('F')\n",
    "except:\n",
    "    print('Bad score')"
   ]
  },
  {
   "cell_type": "code",
   "execution_count": 15,
   "metadata": {},
   "outputs": [
    {
     "name": "stdout",
     "output_type": "stream",
     "text": [
      "Enter score\n",
      "big\n",
      "Bad score\n"
     ]
    }
   ],
   "source": [
    "#Chapter 3 Exercise 3\n",
    "try: \n",
    "    sco=float(input('Enter score\\n'))\n",
    "    if sco>1 or sco<0:\n",
    "        print('Bad score')\n",
    "    elif 0.9<= sco <=1:\n",
    "        print('A')\n",
    "    elif 0.8<=sco <0.9:\n",
    "        print ('B')\n",
    "    elif 0.7<=sco<0.8:\n",
    "        print ('C')\n",
    "    elif 0.6<=sco<0.7:\n",
    "        print ('D')\n",
    "    elif sco<0.6:\n",
    "        print ('F')\n",
    "except:\n",
    "    print('Bad score')"
   ]
  },
  {
   "cell_type": "code",
   "execution_count": 16,
   "metadata": {},
   "outputs": [
    {
     "name": "stdout",
     "output_type": "stream",
     "text": [
      "ABC\n",
      "Zap\n",
      "ABC\n"
     ]
    }
   ],
   "source": [
    "#Chapter 4 Exercise 5\n",
    "def fred():\n",
    "    print (\"Zap\")\n",
    "    \n",
    "def jane():\n",
    "    print (\"ABC\")\n",
    "jane()\n",
    "fred()\n",
    "jane()"
   ]
  },
  {
   "cell_type": "code",
   "execution_count": 10,
   "metadata": {},
   "outputs": [
    {
     "name": "stdout",
     "output_type": "stream",
     "text": [
      "Enter Hours\n",
      "41\n",
      "Enter Rate\n",
      "10\n",
      "415.0\n"
     ]
    }
   ],
   "source": [
    "#Chapter 4 Exercise 6\n",
    "def computepay(hours,rate):\n",
    "    if hours > 40:\n",
    "        ot = hours - 40\n",
    "        pay=(40*rate)+(1.5*rate*ot)\n",
    "    else:\n",
    "        pay=hours*rate\n",
    "    print(pay)\n",
    "    return None\n",
    "\n",
    "try:\n",
    "    hours=int(input('Enter Hours\\n'))\n",
    "    rate=float(input('Enter Rate\\n'))\n",
    "except:\n",
    "    print('Please enter a number')\n",
    "computepay(hours,rate)\n"
   ]
  },
  {
   "cell_type": "code",
   "execution_count": 18,
   "metadata": {},
   "outputs": [
    {
     "name": "stdout",
     "output_type": "stream",
     "text": [
      "Enter score\n",
      "big\n",
      "Bad score\n",
      "Enter score\n",
      "10\n",
      "Bad score\n",
      "Enter score\n",
      "0.65\n",
      "0.65= D\n"
     ]
    }
   ],
   "source": [
    "#Chapter 4 Exercise 7\n",
    "def computegrade(sco):\n",
    "    if 0.9<= sco <=1:\n",
    "        grade='A'\n",
    "    elif 0.8<=sco <0.9:\n",
    "        grade='B'\n",
    "    elif 0.7<=sco<0.8:\n",
    "        grade='C'\n",
    "    elif 0.6<=sco<0.7:\n",
    "        grade='D'\n",
    "    elif sco<0.6:\n",
    "        grade='F'\n",
    "    return grade\n",
    "        \n",
    "validate = 1\n",
    "while validate == 1:\n",
    "    try: \n",
    "        sco=float(input('Enter score\\n'))\n",
    "        if sco>1 or sco<0:\n",
    "            print('Bad score')\n",
    "            validate=1\n",
    "        else:\n",
    "            validate=0\n",
    "    except:\n",
    "        print('Bad score')\n",
    "print(f'{sco}= {computegrade(sco)}')\n"
   ]
  },
  {
   "cell_type": "code",
   "execution_count": null,
   "metadata": {},
   "outputs": [],
   "source": []
  }
 ],
 "metadata": {
  "kernelspec": {
   "display_name": "Python 3",
   "language": "python",
   "name": "python3"
  },
  "language_info": {
   "codemirror_mode": {
    "name": "ipython",
    "version": 3
   },
   "file_extension": ".py",
   "mimetype": "text/x-python",
   "name": "python",
   "nbconvert_exporter": "python",
   "pygments_lexer": "ipython3",
   "version": "3.7.3"
  }
 },
 "nbformat": 4,
 "nbformat_minor": 2
}
